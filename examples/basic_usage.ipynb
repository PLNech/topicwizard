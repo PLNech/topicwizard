{
 "cells": [
  {
   "attachments": {},
   "cell_type": "markdown",
   "metadata": {},
   "source": [
    "We have to install the modules first and then restart the kernel."
   ]
  },
  {
   "cell_type": "code",
   "execution_count": 3,
   "metadata": {},
   "outputs": [],
   "source": [
    "%%capture\n",
    "import os\n",
    "!pip install numpy --force-reinstall\n",
    "!pip install topic-wizard==0.2.4 --force-reinstall\n",
    "!pip install sklearn --force-reinstall \n",
    "os._exit(0) # kernel needs a restart"
   ]
  },
  {
   "attachments": {},
   "cell_type": "markdown",
   "metadata": {},
   "source": [
    "We load necessary packages for training a topic model and visualizing with topicwizard."
   ]
  },
  {
   "cell_type": "code",
   "execution_count": null,
   "metadata": {},
   "outputs": [],
   "source": [
    "from random import sample\n",
    "import topicwizard\n",
    "from sklearn.datasets import fetch_20newsgroups\n",
    "from sklearn.decomposition import NMF\n",
    "from sklearn.feature_extraction.text import CountVectorizer\n",
    "from sklearn.pipeline import Pipeline"
   ]
  },
  {
   "attachments": {},
   "cell_type": "markdown",
   "metadata": {},
   "source": [
    "We load an example dataset from scikit-learn."
   ]
  },
  {
   "cell_type": "code",
   "execution_count": 2,
   "metadata": {},
   "outputs": [],
   "source": [
    "corpus = fetch_20newsgroups(subset=\"all\").data\n",
    "# We sample the corpus so that the preprocessing happens faster\n",
    "# and you can get the preview quicker :))\n",
    "corpus = sample(corpus, 500)"
   ]
  },
  {
   "attachments": {},
   "cell_type": "markdown",
   "metadata": {},
   "source": [
    "We specify an NMF topic model with a regular count bag-of-words vectorizer and 20 topics."
   ]
  },
  {
   "cell_type": "code",
   "execution_count": 3,
   "metadata": {},
   "outputs": [],
   "source": [
    "# Setting up topic modelling pipeline\n",
    "vectorizer = CountVectorizer(max_df=0.8, min_df=10, stop_words=\"english\")\n",
    "# NMF topic model with 20 topics\n",
    "nmf = NMF(n_components=20)\n",
    "pipeline = Pipeline([\n",
    "    (\"bow\", vectorizer),\n",
    "    (\"nmf\", nmf)\n",
    "])"
   ]
  },
  {
   "attachments": {},
   "cell_type": "markdown",
   "metadata": {},
   "source": [
    "We fit the topic pipeline."
   ]
  },
  {
   "cell_type": "code",
   "execution_count": null,
   "metadata": {},
   "outputs": [],
   "source": [
    "# Fitting pipeline\n",
    "pipeline.fit(corpus)"
   ]
  },
  {
   "attachments": {},
   "cell_type": "markdown",
   "metadata": {},
   "source": [
    "Let's visualize our results with topicwizard."
   ]
  },
  {
   "cell_type": "code",
   "execution_count": null,
   "metadata": {},
   "outputs": [],
   "source": [
    "# Visualizing with topicwizard\n",
    "topicwizard.visualize(pipeline=pipeline, corpus=corpus)"
   ]
  },
  {
   "cell_type": "code",
   "execution_count": null,
   "metadata": {},
   "outputs": [],
   "source": []
  }
 ],
 "metadata": {
  "kernelspec": {
   "display_name": "clean_topic",
   "language": "python",
   "name": "python3"
  },
  "language_info": {
   "codemirror_mode": {
    "name": "ipython",
    "version": 3
   },
   "file_extension": ".py",
   "mimetype": "text/x-python",
   "name": "python",
   "nbconvert_exporter": "python",
   "pygments_lexer": "ipython3",
   "version": "3.10.9"
  },
  "orig_nbformat": 4,
  "vscode": {
   "interpreter": {
    "hash": "9c06fce9efe3b740ad40108b2e7c0cf02314403bb8b3c5ddbaf7651b541f9aa3"
   }
  }
 },
 "nbformat": 4,
 "nbformat_minor": 2
}
